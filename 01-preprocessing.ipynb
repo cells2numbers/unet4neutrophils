{
 "cells": [
  {
   "cell_type": "markdown",
   "metadata": {},
   "source": [
    "# Step 01\n",
    "# Preprocessing input images and annotations"
   ]
  },
  {
   "cell_type": "code",
   "execution_count": null,
   "metadata": {},
   "outputs": [],
   "source": [
    "%matplotlib inline"
   ]
  },
  {
   "cell_type": "code",
   "execution_count": null,
   "metadata": {},
   "outputs": [],
   "source": [
    "import os\n",
    "import random\n",
    "\n",
    "import matplotlib.pyplot as plt\n",
    "import numpy as np\n",
    "\n",
    "import pathlib\n",
    "from tqdm import tqdm\n",
    "\n",
    "import skimage.io\n",
    "import skimage.segmentation\n",
    "import skimage.transform\n",
    "\n",
    "import utils.dirtools\n",
    "import utils.augmentation\n",
    "from config import config_vars"
   ]
  },
  {
   "cell_type": "markdown",
   "metadata": {},
   "source": [
    "# Configuration"
   ]
  },
  {
   "cell_type": "code",
   "execution_count": null,
   "metadata": {},
   "outputs": [],
   "source": [
    "config_vars\n",
    "\n"
   ]
  },
  {
   "cell_type": "code",
   "execution_count": null,
   "metadata": {},
   "outputs": [],
   "source": [
    "scale_images = True\n",
    "\n",
    "if scale_images:\n",
    "    file_list = os.listdir(config_vars[\"raw_images_dir\"])\n",
    "    for image_name in file_list:\n",
    "        I = skimage.io.imread(config_vars[\"raw_images_dir\"] + image_name)\n",
    "        \n",
    "        print(I.shape)"
   ]
  },
  {
   "cell_type": "markdown",
   "metadata": {},
   "source": [
    "# Data partitions"
   ]
  },
  {
   "cell_type": "code",
   "execution_count": null,
   "metadata": {},
   "outputs": [],
   "source": [
    "scale_images = False\n",
    "\n",
    "if scale_images:\n",
    "    file_list = os.listdir(config_vars[\"raw_annotations_dir\"])\n",
    "    for image_name in file_list:\n",
    "        I = skimage.io.imread(config_vars[\"raw_annotations_dir\"] + image_name)\n",
    "        \n",
    "        if (I.shape[0] >400) & (I.shape[1] >400) & (I.shape[0] < 650):\n",
    "            dimensions = I.shape\n",
    "            print(dimensions)\n",
    "            I_scaled = skimage.transform.resize(I,(624, 624))\n",
    "            skimage.io.imsave(config_vars[\"raw_annotations_dir\"] + image_name, I_scaled)\n",
    "        else:\n",
    "            print(\"bad image\")\n",
    "            #os.remove(config_vars[\"raw_annotations_dir\"] + image_name)\n",
    "            \n",
    "            "
   ]
  },
  {
   "cell_type": "code",
   "execution_count": null,
   "metadata": {},
   "outputs": [],
   "source": [
    "# Prepare split files\n",
    "\n",
    "if config_vars[\"create_split_files\"]:\n",
    "    file_list = os.listdir(config_vars[\"raw_images_dir\"])\n",
    "\n",
    "    [list_training, list_test, list_validation] = utils.dirtools.create_image_lists(\n",
    "        config_vars[\"raw_images_dir\"],\n",
    "        config_vars[\"training_fraction\"],\n",
    "        config_vars[\"validation_fraction\"]\n",
    "    )\n",
    "\n",
    "    print(list_validation)\n",
    "    \n",
    "    utils.dirtools.write_path_files(config_vars[\"path_files_training\"], list_training)\n",
    "    utils.dirtools.write_path_files(config_vars[\"path_files_test\"], list_test)\n",
    "    utils.dirtools.write_path_files(config_vars[\"path_files_validation\"], list_validation)\n",
    "    \n",
    "data_partitions = utils.dirtools.read_data_partitions(config_vars, load_augmented=False)\n",
    "print(data_partitions)"
   ]
  },
  {
   "cell_type": "code",
   "execution_count": null,
   "metadata": {},
   "outputs": [],
   "source": [
    "list_training\n"
   ]
  },
  {
   "cell_type": "code",
   "execution_count": null,
   "metadata": {},
   "outputs": [],
   "source": [
    "# Create output directories for transformed data\n",
    "\n",
    "os.makedirs(config_vars[\"normalized_images_dir\"], exist_ok=True)\n",
    "os.makedirs(config_vars[\"boundary_labels_dir\"], exist_ok=True)"
   ]
  },
  {
   "cell_type": "markdown",
   "metadata": {},
   "source": [
    "# Image Preprocessing"
   ]
  },
  {
   "cell_type": "code",
   "execution_count": null,
   "metadata": {
    "scrolled": false
   },
   "outputs": [],
   "source": [
    "if config_vars[\"transform_images_to_PNG\"]:\n",
    "    \n",
    "    filelist = sorted(os.listdir(config_vars[\"raw_images_dir\"]))\n",
    "\n",
    "    # run over all raw images\n",
    "    for filename in tqdm(filelist):\n",
    "\n",
    "        # load image and its annotation\n",
    "        orig_img = skimage.io.imread(config_vars[\"raw_images_dir\"] + filename)       \n",
    "\n",
    "        # IMAGE\n",
    "\n",
    "        # normalize to [0,1]\n",
    "        percentile = 99.9\n",
    "        high = np.percentile(orig_img, percentile)\n",
    "        low = np.percentile(orig_img, 100-percentile)\n",
    "\n",
    "        img = np.minimum(high, orig_img)\n",
    "        img = np.maximum(low, img)\n",
    "\n",
    "        img = (img - low) / (high - low) # gives float64, thus cast to 8 bit later\n",
    "        img = skimage.img_as_ubyte(img) \n",
    "        # \n",
    "        skimage.io.imsave(config_vars[\"normalized_images_dir\"] + filename[:-3] + 'png', img)    \n",
    "else:\n",
    "    config_vars[\"normalized_images_dir\"] = config_vars[\"raw_images_dir\"]"
   ]
  },
  {
   "cell_type": "code",
   "execution_count": null,
   "metadata": {
    "scrolled": false
   },
   "outputs": [],
   "source": [
    "print(img.dtype, img.shape)\n",
    "filename = os.listdir(config_vars[\"normalized_images_dir\"])\n",
    "img = skimage.io.imread(config_vars[\"normalized_images_dir\"] + filename[-1])\n",
    "plt.figure(figsize=(10,10))\n",
    "plt.imshow(img)\n",
    "plt.show()\n",
    "plt.hist(img.flatten(), bins=100)\n",
    "plt.show()"
   ]
  },
  {
   "cell_type": "markdown",
   "metadata": {},
   "source": [
    "# Create Output Targets: Three Class Boundary"
   ]
  },
  {
   "cell_type": "code",
   "execution_count": null,
   "metadata": {
    "scrolled": true
   },
   "outputs": [],
   "source": [
    "filelist = sorted(os.listdir(config_vars[\"raw_annotations_dir\"]))\n",
    "total_objects = 0\n",
    "\n",
    "# run over all raw images\n",
    "for filename in tqdm(filelist):\n",
    "    \n",
    "    # GET ANNOTATION\n",
    "    annot = skimage.io.imread(config_vars[\"raw_annotations_dir\"] + filename)\n",
    "    print(annot.shape)\n",
    "    # strip the first channel\n",
    "    if len(annot.shape) == 3:\n",
    "        annot = annot[:,:,0]\n",
    "    \n",
    "    # label the annotations nicely to prepare for future filtering operation\n",
    "    annot = skimage.morphology.label(annot)\n",
    "    total_objects += len(np.unique(annot)) - 1\n",
    "    \n",
    "    # filter small objects, e.g. micronulcei\n",
    "    annot = skimage.morphology.remove_small_objects(annot, min_size= 20) #config_vars[\"min_nucleus_size\"])\n",
    "    \n",
    "    # find boundaries\n",
    "    boundaries = skimage.segmentation.find_boundaries(annot)\n",
    "\n",
    "    for k in range(2, config_vars[\"boundary_size\"], 2):\n",
    "        boundaries = skimage.morphology.binary_dilation(boundaries)\n",
    "        \n",
    "    # BINARY LABEL\n",
    "    \n",
    "    # prepare buffer for binary label\n",
    "    label_binary = np.zeros((annot.shape + (3,)))\n",
    "    \n",
    "    # write binary label\n",
    "    label_binary[(annot == 0) & (boundaries == 0), 0] = 1\n",
    "    label_binary[(annot != 0) & (boundaries == 0), 1] = 1\n",
    "    label_binary[boundaries == 1, 2] = 1\n",
    "    \n",
    "    # save it - converts image to range from 0 to 255\n",
    "    skimage.io.imsave(config_vars[\"boundary_labels_dir\"] + filename[:-3] + 'png', label_binary)\n",
    "    \n",
    "print(\"Total objects: \",total_objects)"
   ]
  },
  {
   "cell_type": "code",
   "execution_count": null,
   "metadata": {
    "scrolled": false
   },
   "outputs": [],
   "source": [
    "# Show example image \n",
    "print(annot.dtype, annot.shape)\n",
    "\n",
    "# plot original annotation\n",
    "plt.figure(figsize=(10,10))\n",
    "plt.imshow(annot, cmap=\"nipy_spectral\")\n",
    "plt.show()\n",
    "\n",
    "# plot boundary labels\n",
    "plt.figure(figsize=(10,10))\n",
    "plt.imshow(label_binary)\n",
    "plt.show()\n"
   ]
  },
  {
   "cell_type": "markdown",
   "metadata": {},
   "source": [
    "# Augment images (optional) \n",
    "* data augmentation using affine transformations \n",
    "* n_points x n_points data points are equally distributed in the image \n",
    "* distort \n",
    "* n_augmentations images are calculated for each image \n"
   ]
  },
  {
   "cell_type": "code",
   "execution_count": null,
   "metadata": {
    "scrolled": true
   },
   "outputs": [],
   "source": [
    "def generate_augmented_examples(filelist, n_augmentations, n_points, distort, dir_boundary_labels, dir_images_normalized_8bit):\n",
    "    \n",
    "    updated_filelist = []\n",
    "    \n",
    "    # run over all raw images\n",
    "    for filename in tqdm(filelist):\n",
    "        \n",
    "        #if filename.startswith(\"IXMtest\"):\n",
    "        #    print(\"Skipping\", filename)\n",
    "        #    continue\n",
    "            \n",
    "        # check if boundary labels were calculated \n",
    "        my_file = pathlib.Path(dir_boundary_labels + filename)\n",
    "        \n",
    "        if my_file.is_file():\n",
    "            \n",
    "            # load image \n",
    "            x = skimage.io.imread(dir_images_normalized_8bit + filename)\n",
    "            \n",
    "            # load annotation \n",
    "            y = skimage.io.imread(dir_boundary_labels + filename)\n",
    "            \n",
    "            for n in range(1,n_augmentations):\n",
    "                # augment image and annotation \n",
    "                x_augmented, y_augmented = utils.augmentation.deform(x, y, points = n_points, distort = distort)\n",
    "                \n",
    "                # filename for augmented images\n",
    "                filename_augmented = os.path.splitext(filename)[0] + '_aug_{:03d}'.format(n) + os.path.splitext(filename)[1]\n",
    "                skimage.io.imsave(dir_images_normalized_8bit + filename_augmented, x)\n",
    "                skimage.io.imsave(dir_boundary_labels + filename_augmented, y)\n",
    "                updated_filelist.append(filename_augmented)\n",
    "                \n",
    "    return filelist + updated_filelist \n",
    "\n",
    "if config_vars[\"augment_images\"]:\n",
    "    \n",
    "    tmp_value = config_vars[\"max_training_images\"]\n",
    "    config_vars[\"max_training_images\"] = 0\n",
    "    tmp_partitions = utils.dirtools.read_data_partitions(config_vars, load_augmented=False)\n",
    "    \n",
    "    training_files = generate_augmented_examples(\n",
    "        tmp_partitions[\"training\"], \n",
    "        config_vars[\"elastic_augmentations\"], \n",
    "        config_vars[\"elastic_points\"], \n",
    "        config_vars[\"elastic_distortion\"], \n",
    "        config_vars[\"boundary_labels_dir\"], \n",
    "        config_vars[\"normalized_images_dir\"]\n",
    "    )\n",
    "    \n",
    "    config_vars[\"max_training_images\"] = tmp_value\n"
   ]
  },
  {
   "cell_type": "code",
   "execution_count": null,
   "metadata": {},
   "outputs": [],
   "source": [
    "I_aug = skimage.io.imread('/storage/data/2018_tim_tracking/unet/norm_images/training_set_043_f43_s10.png')\n",
    "plt.imshow(I_aug)"
   ]
  },
  {
   "cell_type": "code",
   "execution_count": null,
   "metadata": {},
   "outputs": [],
   "source": [
    "I = skimage.io.imread('/storage/data/2018_tim_tracking/unet/raw_annotations/training_set_043_f43_s10.tiff')\n",
    "plt.imshow(I)"
   ]
  }
 ],
 "metadata": {
  "kernelspec": {
   "display_name": "Python 3",
   "language": "python",
   "name": "python3"
  },
  "language_info": {
   "codemirror_mode": {
    "name": "ipython",
    "version": 3
   },
   "file_extension": ".py",
   "mimetype": "text/x-python",
   "name": "python",
   "nbconvert_exporter": "python",
   "pygments_lexer": "ipython3",
   "version": "3.6.4"
  }
 },
 "nbformat": 4,
 "nbformat_minor": 2
}
