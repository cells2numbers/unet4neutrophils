{
 "cells": [
  {
   "cell_type": "markdown",
   "metadata": {},
   "source": [
    "# Step 04\n",
    "# Evaluation of performance"
   ]
  },
  {
   "cell_type": "code",
   "execution_count": 34,
   "metadata": {},
   "outputs": [],
   "source": [
    "%matplotlib inline"
   ]
  },
  {
   "cell_type": "code",
   "execution_count": 35,
   "metadata": {},
   "outputs": [],
   "source": [
    "import os\n",
    "\n",
    "import matplotlib.pyplot as plt\n",
    "import numpy as np\n",
    "import pandas as pd\n",
    "import seaborn as sb\n",
    "\n",
    "import skimage.io\n",
    "import skimage.morphology\n",
    "import skimage.segmentation\n",
    "\n",
    "import utils.evaluation"
   ]
  },
  {
   "cell_type": "markdown",
   "metadata": {},
   "source": [
    "# Configuration"
   ]
  },
  {
   "cell_type": "code",
   "execution_count": 36,
   "metadata": {},
   "outputs": [
    {
     "data": {
      "text/plain": [
       "{'augment_images': True,\n",
       " 'batch_size': 10,\n",
       " 'boundary_boost_factor': 1,\n",
       " 'boundary_labels_dir': '/storage/data/2018_tim_tracking/unet/boundary_labels/',\n",
       " 'boundary_size': 2,\n",
       " 'cell_min_size': 40,\n",
       " 'create_split_files': True,\n",
       " 'crop_size': 256,\n",
       " 'csv_log_file': '/storage/data/2018_tim_tracking/unet/experiments/neutros_v3/log.csv',\n",
       " 'elastic_augmentations': 10,\n",
       " 'elastic_distortion': 5,\n",
       " 'elastic_points': 16,\n",
       " 'epochs': 15,\n",
       " 'experiment_dir': '/storage/data/2018_tim_tracking/unet/experiments/neutros_v3/out/',\n",
       " 'labels_out_dir': '/storage/data/2018_tim_tracking/unet/experiments/neutros_v3/out/segm/',\n",
       " 'learning_rate': 1e-05,\n",
       " 'max_training_images': 0,\n",
       " 'min_nucleus_size': 5,\n",
       " 'model_file': '/storage/data/2018_tim_tracking/unet/experiments/neutros_v3/model.hdf5',\n",
       " 'normalized_images_dir': '/storage/data/2018_tim_tracking/unet/norm_images/',\n",
       " 'object_dilation': 3,\n",
       " 'path_files_test': '/storage/data/2018_tim_tracking/unet/test.txt',\n",
       " 'path_files_training': '/storage/data/2018_tim_tracking/unet/training.txt',\n",
       " 'path_files_validation': '/storage/data/2018_tim_tracking/unet/validation.txt',\n",
       " 'pixel_depth': 8,\n",
       " 'probmap_out_dir': '/storage/data/2018_tim_tracking/unet/experiments/neutros_v3/out/prob/',\n",
       " 'raw_annotations_dir': '/storage/data/2018_tim_tracking/unet/raw_annotations/',\n",
       " 'raw_images_dir': '/storage/data/2018_tim_tracking/unet/raw_images/',\n",
       " 'rescale_labels': True,\n",
       " 'root_directory': '/storage/data/2018_tim_tracking/unet/',\n",
       " 'steps_per_epoch': 500,\n",
       " 'training_fraction': 0.5,\n",
       " 'transform_images_to_PNG': True,\n",
       " 'val_batch_size': 10,\n",
       " 'validation_fraction': 0.25}"
      ]
     },
     "execution_count": 36,
     "metadata": {},
     "output_type": "execute_result"
    }
   ],
   "source": [
    "from config import config_vars\n",
    "\n",
    "# Partition of the data to make predictions (test or validation)\n",
    "partition = \"validation\"\n",
    "\n",
    "experiment_name = 'neutros_v3'\n",
    "\n",
    "config_vars = utils.dirtools.setup_experiment(config_vars, experiment_name)\n",
    "\n",
    "data_partitions = utils.dirtools.read_data_partitions(config_vars)\n",
    "\n",
    "\n",
    "\n",
    "config_vars['min_nucleus_size'] = 5\n",
    "\n",
    "config_vars"
   ]
  },
  {
   "cell_type": "code",
   "execution_count": 37,
   "metadata": {},
   "outputs": [],
   "source": [
    "# To evaluate segmentations produced by other segmentation algorithms (e.g. CellProfiler), \n",
    "# manually modify the following config var:\n",
    "\n",
    "#config_vars[\"labels_out_dir\"] = \"/data/cellprofiler_segmentations/\"\n",
    "#config_vars[\"object_dilation\"] = 2"
   ]
  },
  {
   "cell_type": "markdown",
   "metadata": {},
   "source": [
    "# Auxiliary visualization function"
   ]
  },
  {
   "cell_type": "code",
   "execution_count": 38,
   "metadata": {},
   "outputs": [],
   "source": [
    "# Display prediction along with segmentation to visualize errors\n",
    "\n",
    "def show(ground_truth, prediction, threshold=0.5, image_name=\"N\"):\n",
    "    \n",
    "    # Compute Intersection over Union\n",
    "    IOU = utils.evaluation.intersection_over_union(ground_truth, prediction)\n",
    "    \n",
    "    # Create diff map\n",
    "    diff = np.zeros(ground_truth.shape + (3,))\n",
    "    A = ground_truth.copy()\n",
    "    B = prediction.copy()\n",
    "    A[A > 0] = 1\n",
    "    B[B > 0] = 1\n",
    "    D = A - B\n",
    "    #diff[D > 0,:2] = 1\n",
    "    #diff[D < 0,1:] = 1\n",
    "    \n",
    "    # Object-level errors\n",
    "    C = IOU.copy()\n",
    "    C[C>=threshold] = 1\n",
    "    C[C<threshold] = 0\n",
    "    missed = np.where(np.sum(C,axis=1) == 0)[0]\n",
    "    extra = np.where(np.sum(C,axis=0) == 0)[0]\n",
    "\n",
    "    for m in missed:\n",
    "        diff[ground_truth == m+1, 0] = 1\n",
    "    for e in extra:\n",
    "        diff[prediction == e+1, 2] = 1\n",
    "    \n",
    "    # Display figures\n",
    "    fig, ax = plt.subplots(1, 4, figsize=(18,6))\n",
    "    ax[0].imshow(ground_truth)\n",
    "    ax[0].set_title(\"True objects:\"+str(len(np.unique(ground_truth))))\n",
    "    ax[1].imshow(diff)\n",
    "    ax[1].set_title(\"Segmentation errors:\"+str(len(missed)))\n",
    "    ax[2].imshow(prediction)\n",
    "    ax[2].set_title(\"Predicted objects:\"+str(len(np.unique(prediction))))\n",
    "    ax[3].imshow(IOU)\n",
    "    ax[3].set_title(image_name)"
   ]
  },
  {
   "cell_type": "markdown",
   "metadata": {},
   "source": [
    "# Run the evaluation\n",
    "Predictions are stored in Step 03 and loaded here for evaluation"
   ]
  },
  {
   "cell_type": "code",
   "execution_count": 39,
   "metadata": {},
   "outputs": [
    {
     "name": "stdout",
     "output_type": "stream",
     "text": [
      "['series_0009_annotation.png', 'series_0003_annotation.png', 'series_0012_annotation.png']\n"
     ]
    }
   ],
   "source": [
    "\n",
    "all_images = data_partitions[partition]\n",
    "print(all_images)"
   ]
  },
  {
   "cell_type": "code",
   "execution_count": 41,
   "metadata": {
    "scrolled": true
   },
   "outputs": [
    {
     "name": "stdout",
     "output_type": "stream",
     "text": [
      "series_0009_annotation.png\n",
      "/storage/data/2018_tim_tracking/unet/experiments/neutros_v3/out/segm/series_0009_annotation.png\n",
      "series_0003_annotation.png\n",
      "/storage/data/2018_tim_tracking/unet/experiments/neutros_v3/out/segm/series_0003_annotation.png\n",
      "series_0012_annotation.png\n",
      "/storage/data/2018_tim_tracking/unet/experiments/neutros_v3/out/segm/series_0012_annotation.png\n"
     ]
    },
    {
     "data": {
      "image/png": "[encoded data removed]",
      "text/plain": [
       "<matplotlib.figure.Figure at 0x7f7759da5be0>"
      ]
     },
     "metadata": {},
     "output_type": "display_data"
    }
   ],
   "source": [
    "results = pd.DataFrame(columns=[\"Image\", \"Threshold\", \"F1\", \"Jaccard\", \"TP\", \"FP\", \"FN\"])\n",
    "false_negatives = pd.DataFrame(columns=[\"False_Negative\", \"Area\"])\n",
    "splits_merges = pd.DataFrame(columns=[\"Image_Name\", \"Merges\", \"Splits\"])\n",
    "\n",
    "\n",
    "\n",
    "for image_name in all_images:\n",
    "    # Load ground truth data\n",
    "    print(image_name)\n",
    "    img_filename = os.path.join(config_vars[\"raw_annotations_dir\"], os.path.splitext(image_name)[0]+'.png')\n",
    "    ground_truth = skimage.io.imread(img_filename)\n",
    "    if len(ground_truth.shape) == 3:\n",
    "        ground_truth = ground_truth[:,:,0]\n",
    "    \n",
    "    # Transform to label matrix\n",
    "    ground_truth = skimage.morphology.label(ground_truth)\n",
    "    \n",
    "    # Load predictions\n",
    "    pred_filename = os.path.join(config_vars[\"labels_out_dir\"], image_name)\n",
    "    print(pred_filename)\n",
    "    prediction = skimage.io.imread(pred_filename)\n",
    "    \n",
    "    # Apply object dilation\n",
    "    if config_vars[\"object_dilation\"] > 0:\n",
    "        struct = skimage.morphology.square(config_vars[\"object_dilation\"])\n",
    "        prediction = skimage.morphology.dilation(prediction, struct)\n",
    "    elif config_vars[\"object_dilation\"] < 0:\n",
    "        struct = skimage.morphology.square(-config_vars[\"object_dilation\"])\n",
    "        prediction = skimage.morphology.erosion(prediction, struct)\n",
    "        \n",
    "    # Relabel objects (cut margin of 30 pixels to make a fair comparison with DeepCell)\n",
    "    ground_truth = skimage.segmentation.relabel_sequential(ground_truth)[0] #[30:-30,30:-30])[0]\n",
    "    prediction = skimage.segmentation.relabel_sequential(prediction)[0] #[30:-30,30:-30])[0]\n",
    "    \n",
    "    # Compute evaluation metrics\n",
    "    results = utils.evaluation.compute_af1_results(\n",
    "        ground_truth, \n",
    "        prediction, \n",
    "        results, \n",
    "        image_name\n",
    "    )\n",
    "    \n",
    "    false_negatives = utils.evaluation.get_false_negatives(\n",
    "        ground_truth, \n",
    "        prediction, \n",
    "        false_negatives, \n",
    "        image_name\n",
    "    )\n",
    "    \n",
    "    splits_merges = utils.evaluation.get_splits_and_merges(\n",
    "        ground_truth, \n",
    "        prediction, \n",
    "        splits_merges, \n",
    "        image_name\n",
    "    )\n",
    "    \n",
    "    # Display an example image\n",
    "    if image_name == all_images[2]:\n",
    "        show(ground_truth, prediction, image_name=image_name)"
   ]
  },
  {
   "cell_type": "markdown",
   "metadata": {},
   "source": [
    "# Report of results"
   ]
  },
  {
   "cell_type": "code",
   "execution_count": 42,
   "metadata": {
    "scrolled": false
   },
   "outputs": [
    {
     "data": {
      "text/plain": [
       "'series_0009_annotation.png'"
      ]
     },
     "execution_count": 42,
     "metadata": {},
     "output_type": "execute_result"
    },
    {
     "data": {
      "image/png": "[encoded data removed]",
      "text/plain": [
       "<matplotlib.figure.Figure at 0x7f7759d7c240>"
      ]
     },
     "metadata": {},
     "output_type": "display_data"
    }
   ],
   "source": [
    "# Display accuracy results\n",
    "\n",
    "average_performance = results.groupby(\"Threshold\").mean().reset_index()\n",
    "\n",
    "R = results.groupby(\"Image\").mean().reset_index()\n",
    "g = sb.jointplot(data=R[R[\"F1\"] > 0.1], x=\"Jaccard\", y=\"F1\")\n",
    "\n",
    "average_performance\n",
    "R.sort_values(by=\"F1\",ascending=False).loc[1, \"Image\"]"
   ]
  },
  {
   "cell_type": "code",
   "execution_count": 43,
   "metadata": {},
   "outputs": [
    {
     "data": {
      "text/html": [
       "<div>\n",
       "<style scoped>\n",
       "    .dataframe tbody tr th:only-of-type {\n",
       "        vertical-align: middle;\n",
       "    }\n",
       "\n",
       "    .dataframe tbody tr th {\n",
       "        vertical-align: top;\n",
       "    }\n",
       "\n",
       "    .dataframe thead th {\n",
       "        text-align: right;\n",
       "    }\n",
       "</style>\n",
       "<table border=\"1\" class=\"dataframe\">\n",
       "  <thead>\n",
       "    <tr style=\"text-align: right;\">\n",
       "      <th></th>\n",
       "      <th>Threshold</th>\n",
       "      <th>F1</th>\n",
       "      <th>Jaccard</th>\n",
       "    </tr>\n",
       "  </thead>\n",
       "  <tbody>\n",
       "    <tr>\n",
       "      <th>0</th>\n",
       "      <td>0.50</td>\n",
       "      <td>0.848374</td>\n",
       "      <td>0.737487</td>\n",
       "    </tr>\n",
       "    <tr>\n",
       "      <th>1</th>\n",
       "      <td>0.55</td>\n",
       "      <td>0.836470</td>\n",
       "      <td>0.737487</td>\n",
       "    </tr>\n",
       "    <tr>\n",
       "      <th>2</th>\n",
       "      <td>0.60</td>\n",
       "      <td>0.824565</td>\n",
       "      <td>0.737487</td>\n",
       "    </tr>\n",
       "    <tr>\n",
       "      <th>3</th>\n",
       "      <td>0.65</td>\n",
       "      <td>0.812660</td>\n",
       "      <td>0.737487</td>\n",
       "    </tr>\n",
       "    <tr>\n",
       "      <th>4</th>\n",
       "      <td>0.70</td>\n",
       "      <td>0.789672</td>\n",
       "      <td>0.737487</td>\n",
       "    </tr>\n",
       "    <tr>\n",
       "      <th>5</th>\n",
       "      <td>0.75</td>\n",
       "      <td>0.651790</td>\n",
       "      <td>0.737487</td>\n",
       "    </tr>\n",
       "    <tr>\n",
       "      <th>6</th>\n",
       "      <td>0.80</td>\n",
       "      <td>0.486765</td>\n",
       "      <td>0.737487</td>\n",
       "    </tr>\n",
       "    <tr>\n",
       "      <th>7</th>\n",
       "      <td>0.85</td>\n",
       "      <td>0.257323</td>\n",
       "      <td>0.737487</td>\n",
       "    </tr>\n",
       "    <tr>\n",
       "      <th>8</th>\n",
       "      <td>0.90</td>\n",
       "      <td>0.073465</td>\n",
       "      <td>0.737487</td>\n",
       "    </tr>\n",
       "    <tr>\n",
       "      <th>9</th>\n",
       "      <td>0.95</td>\n",
       "      <td>0.026667</td>\n",
       "      <td>0.737487</td>\n",
       "    </tr>\n",
       "  </tbody>\n",
       "</table>\n",
       "</div>"
      ],
      "text/plain": [
       "   Threshold        F1   Jaccard\n",
       "0       0.50  0.848374  0.737487\n",
       "1       0.55  0.836470  0.737487\n",
       "2       0.60  0.824565  0.737487\n",
       "3       0.65  0.812660  0.737487\n",
       "4       0.70  0.789672  0.737487\n",
       "5       0.75  0.651790  0.737487\n",
       "6       0.80  0.486765  0.737487\n",
       "7       0.85  0.257323  0.737487\n",
       "8       0.90  0.073465  0.737487\n",
       "9       0.95  0.026667  0.737487"
      ]
     },
     "execution_count": 43,
     "metadata": {},
     "output_type": "execute_result"
    },
    {
     "data": {
      "image/png": "[encoded data removed]",
      "text/plain": [
       "<matplotlib.figure.Figure at 0x7f7759da53c8>"
      ]
     },
     "metadata": {},
     "output_type": "display_data"
    }
   ],
   "source": [
    "# Plot accuracy results\n",
    "\n",
    "sb.regplot(data=average_performance, x=\"Threshold\", y=\"F1\", order=4, ci=None)\n",
    "average_performance"
   ]
  },
  {
   "cell_type": "code",
   "execution_count": 44,
   "metadata": {},
   "outputs": [
    {
     "name": "stdout",
     "output_type": "stream",
     "text": [
      "Average F1 score: 0.5607750410338059\n",
      "Jaccard index: 0.7374871165385777\n"
     ]
    }
   ],
   "source": [
    "# Compute and print Average F1\n",
    "\n",
    "average_F1_score = average_performance[\"F1\"].mean()\n",
    "jaccard_index = average_performance[\"Jaccard\"].mean()\n",
    "print(\"Average F1 score:\", average_F1_score)\n",
    "print(\"Jaccard index:\", jaccard_index)"
   ]
  },
  {
   "cell_type": "code",
   "execution_count": 45,
   "metadata": {},
   "outputs": [
    {
     "data": {
      "text/plain": [
       "Area\n",
       "Tiny nuclei      10.0\n",
       "Small nuclei      2.0\n",
       "Normal nuclei     NaN\n",
       "Large nuclei      NaN\n",
       "Name: False_Negative, dtype: float64"
      ]
     },
     "execution_count": 45,
     "metadata": {},
     "output_type": "execute_result"
    }
   ],
   "source": [
    "# Summarize False Negatives by area\n",
    "\n",
    "false_negatives = false_negatives[false_negatives[\"False_Negative\"] == 1]\n",
    "\n",
    "false_negatives.groupby(\n",
    "    pd.cut(\n",
    "        false_negatives[\"Area\"], \n",
    "        [0,250,625,900,10000], # Area intervals\n",
    "        labels=[\"Tiny nuclei\",\"Small nuclei\",\"Normal nuclei\",\"Large nuclei\"],\n",
    "    )\n",
    ")[\"False_Negative\"].sum()"
   ]
  },
  {
   "cell_type": "code",
   "execution_count": 20,
   "metadata": {},
   "outputs": [
    {
     "name": "stdout",
     "output_type": "stream",
     "text": [
      "Splits: 228\n",
      "Merges: 89\n"
     ]
    }
   ],
   "source": [
    "# Summarize splits and merges\n",
    "\n",
    "print(\"Splits:\",np.sum(splits_merges[\"Splits\"]))\n",
    "print(\"Merges:\",np.sum(splits_merges[\"Merges\"]))"
   ]
  },
  {
   "cell_type": "code",
   "execution_count": 21,
   "metadata": {},
   "outputs": [
    {
     "name": "stdout",
     "output_type": "stream",
     "text": [
      "Extra objects (false postives): 55757\n"
     ]
    }
   ],
   "source": [
    "# Report false positives\n",
    "\n",
    "print(\"Extra objects (false postives):\",results[results[\"Threshold\"].round(3) == 0.7].sum()[\"FP\"])"
   ]
  },
  {
   "cell_type": "code",
   "execution_count": null,
   "metadata": {},
   "outputs": [],
   "source": []
  }
 ],
 "metadata": {
  "kernelspec": {
   "display_name": "Python 3",
   "language": "python",
   "name": "python3"
  },
  "language_info": {
   "codemirror_mode": {
    "name": "ipython",
    "version": 3
   },
   "file_extension": ".py",
   "mimetype": "text/x-python",
   "name": "python",
   "nbconvert_exporter": "python",
   "pygments_lexer": "ipython3",
   "version": "3.6.4"
  }
 },
 "nbformat": 4,
 "nbformat_minor": 2
}
