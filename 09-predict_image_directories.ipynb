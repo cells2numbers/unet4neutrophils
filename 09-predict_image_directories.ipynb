{
 "cells": [
  {
   "cell_type": "markdown",
   "metadata": {},
   "source": [
    "# Last step\n",
    "# Predict segmentations"
   ]
  },
  {
   "cell_type": "code",
   "execution_count": null,
   "metadata": {},
   "outputs": [],
   "source": [
    "%matplotlib inline"
   ]
  },
  {
   "cell_type": "code",
   "execution_count": null,
   "metadata": {},
   "outputs": [],
   "source": [
    "import os\n",
    "import os.path\n",
    "\n",
    "import glob\n",
    "\n",
    "import matplotlib.pyplot as plt\n",
    "import numpy as np\n",
    "\n",
    "import skimage.io\n",
    "import skimage.morphology\n",
    "\n",
    "import tqdm\n",
    "\n",
    "import tensorflow as tf\n",
    "import keras\n",
    "\n",
    "import utils.metrics\n",
    "import utils.model_builder"
   ]
  },
  {
   "cell_type": "markdown",
   "metadata": {},
   "source": [
    "Configurable parameter:\n",
    "* config (experiment)\n",
    "* GPU\n",
    "* input folder \n",
    "* output folder"
   ]
  },
  {
   "cell_type": "markdown",
   "metadata": {},
   "source": [
    "# Configuration"
   ]
  },
  {
   "cell_type": "code",
   "execution_count": null,
   "metadata": {},
   "outputs": [],
   "source": [
    "GPU_NO = \"0\"\n",
    "input_directory =  \"/storage/data/2018_tim_tracking/2018_08_06_migration_perturbations_asthma/images/2018_asthma_migration_data_kira\"\n",
    "output_directory = \"/storage/data/2018_tim_tracking/2018_08_06_migration_perturbations_asthma/images/2018_asthma_migration_data_kira_predictions\"\n",
    "experiment_name = \"neutros_v3\""
   ]
  },
  {
   "cell_type": "markdown",
   "metadata": {},
   "source": [
    "# Initialize keras "
   ]
  },
  {
   "cell_type": "code",
   "execution_count": null,
   "metadata": {},
   "outputs": [],
   "source": [
    "from config import config_vars\n",
    "\n",
    "# load configuration file\n",
    "config_vars = utils.dirtools.setup_experiment(config_vars, experiment_name)\n",
    "\n",
    "# output directory\n",
    "config_vars[\"probmap_out_dir\"] = output_directory\n",
    "\n",
    "# initialize GPU\n",
    "configuration = tf.ConfigProto()\n",
    "configuration.gpu_options.allow_growth = True\n",
    "configuration.gpu_options.visible_device_list = GPU_NO\n",
    "\n",
    "session = tf.Session(config = configuration)\n",
    "\n",
    "# apply session\n",
    "keras.backend.set_session(session)\n",
    "\n"
   ]
  },
  {
   "cell_type": "markdown",
   "metadata": {},
   "source": [
    "# Load and preprocessing images"
   ]
  },
  {
   "cell_type": "code",
   "execution_count": null,
   "metadata": {},
   "outputs": [],
   "source": [
    "def load_and_prepare_images_from_directory(input_directory):\n",
    "    image_names = glob.glob(input_directory + \"/*jpg\")\n",
    "    images = []\n",
    "    imagebuffer = skimage.io.imread_collection( image_names )\n",
    "    for image in imagebuffer:\n",
    "        #image = skimage.io.imread(filename)\n",
    "        images.append(skimage.color.rgb2gray(image))\n",
    "\n",
    "    #print(\"found {} images\".format(len(imagebuffer)))\n",
    "\n",
    "    images = np.array(images)\n",
    "\n",
    "    dim1 = np.floor(images.shape[1]/16) * 16 \n",
    "    dim1 = dim1.astype(np.int)\n",
    "    dim2 = np.floor(images.shape[2]/16) * 16 \n",
    "    dim2 = dim2.astype(np.int)\n",
    "\n",
    "    images = images[:,0:dim1,0:dim2]\n",
    "\n",
    "    dim1 = images.shape[1]\n",
    "    dim2 = images.shape[2]\n",
    "\n",
    "    images = images.reshape((-1, dim1, dim2, 1))\n",
    "\n",
    "    #print(dim1,dim2)\n",
    "\n",
    "    # preprocess images\n",
    "    percentile = 99.9\n",
    "    for image_no in range(images.shape[0]):\n",
    "        orig_img = images[image_no,:,:,:]\n",
    "\n",
    "        high = np.percentile(orig_img, percentile)\n",
    "        low = np.percentile(orig_img, 100-percentile)\n",
    "\n",
    "        img = np.minimum(high, orig_img)\n",
    "        img = np.maximum(low, img)\n",
    "        img = (img - low) / (high - low) \n",
    "        img = skimage.img_as_ubyte(img) \n",
    "        images[image_no,:,:,:] = img # gives float64, thus cast to 8 bit later\n",
    "\n",
    "\n",
    "\n",
    "    images = images.astype(float)\n",
    "    images = images / 256\n",
    "\n",
    "    return(images,imagebuffer)"
   ]
  },
  {
   "cell_type": "markdown",
   "metadata": {},
   "source": [
    "# Predict images "
   ]
  },
  {
   "cell_type": "code",
   "execution_count": null,
   "metadata": {},
   "outputs": [],
   "source": [
    "for directory in tqdm.tqdm(os.listdir(input_directory)):\n",
    "    [images,imagebuffer] = load_and_prepare_images_from_directory(os.path.join(input_directory,directory))\n",
    "    \n",
    "    # build model and load weights\n",
    "    dim1 = images.shape[1]\n",
    "    dim2 = images.shape[2]\n",
    "    model = utils.model_builder.get_model_3_class(dim1, dim2)\n",
    "    model.load_weights(config_vars[\"model_file\"])\n",
    "\n",
    "    #  prediction \n",
    "    predictions = model.predict(images, batch_size=1)\n",
    "    \n",
    "    if not os.path.exists(os.path.join(output_directory,directory)):\n",
    "        os.makedirs(os.path.join(output_directory,directory)) \n",
    "    \n",
    "    for i in range(len(images)):\n",
    "\n",
    "        image_savename = os.path.join(\n",
    "            output_directory, \n",
    "            directory, \n",
    "            os.path.basename(imagebuffer.files[i])\n",
    "        )\n",
    "\n",
    "        probmap = predictions[i].squeeze()\n",
    "        \n",
    "        skimage.io.imsave(os.path.splitext(image_savename)[0] + \".png\", probmap)\n",
    "\n",
    "    "
   ]
  }
 ],
 "metadata": {
  "kernelspec": {
   "display_name": "Python 3",
   "language": "python",
   "name": "python3"
  },
  "language_info": {
   "codemirror_mode": {
    "name": "ipython",
    "version": 3
   },
   "file_extension": ".py",
   "mimetype": "text/x-python",
   "name": "python",
   "nbconvert_exporter": "python",
   "pygments_lexer": "ipython3",
   "version": "3.6.4"
  }
 },
 "nbformat": 4,
 "nbformat_minor": 2
}
